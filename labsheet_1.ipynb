{
  "cells": [
    {
      "cell_type": "code",
      "source": [
        "days=['mon','tue','wed','thu','fri','sat','sun']\n",
        "len(days)"
      ],
      "metadata": {
        "id": "8Xe5k8n4Q65b",
        "colab": {
          "base_uri": "https://localhost:8080/"
        },
        "outputId": "0c098dd5-0785-4f29-cbdf-781411373a46"
      },
      "execution_count": null,
      "outputs": [
        {
          "output_type": "execute_result",
          "data": {
            "text/plain": [
              "7"
            ]
          },
          "metadata": {},
          "execution_count": 1
        }
      ]
    },
    {
      "cell_type": "code",
      "source": [
        "numbers=[1,67,8,4,6,5]\n",
        "min(numbers)"
      ],
      "metadata": {
        "id": "JhjmHQ4NMXGf",
        "outputId": "7a76e226-1364-46ad-906a-68394abef9d8",
        "colab": {
          "base_uri": "https://localhost:8080/"
        }
      },
      "execution_count": null,
      "outputs": [
        {
          "output_type": "execute_result",
          "data": {
            "text/plain": [
              "1"
            ]
          },
          "metadata": {},
          "execution_count": 4
        }
      ]
    },
    {
      "cell_type": "markdown",
      "source": [],
      "metadata": {
        "id": "MAu-8u1qap1u"
      }
    },
    {
      "cell_type": "code",
      "source": [],
      "metadata": {
        "id": "krfA-dOvaqPX"
      },
      "execution_count": null,
      "outputs": []
    },
    {
      "cell_type": "code",
      "source": [
        "numbers=[1,67,8,4,6,5]\n",
        "sum(numbers)"
      ],
      "metadata": {
        "id": "5RlQoDHBMnl7",
        "outputId": "91032502-614b-4bdb-d9db-21f285ab934b",
        "colab": {
          "base_uri": "https://localhost:8080/"
        }
      },
      "execution_count": null,
      "outputs": [
        {
          "output_type": "execute_result",
          "data": {
            "text/plain": [
              "91"
            ]
          },
          "metadata": {},
          "execution_count": 5
        }
      ]
    },
    {
      "cell_type": "code",
      "source": [
        "import random\n",
        "numbers=[1,3,4,5,6,7,8]\n",
        "random.shuffle(numbers)\n",
        "print(numbers)"
      ],
      "metadata": {
        "id": "9pUBmxzbMwbY",
        "outputId": "975cf554-c2f7-4d24-c013-072335da1da8",
        "colab": {
          "base_uri": "https://localhost:8080/"
        }
      },
      "execution_count": null,
      "outputs": [
        {
          "output_type": "stream",
          "name": "stdout",
          "text": [
            "[5, 4, 7, 1, 3, 8, 6]\n"
          ]
        }
      ]
    },
    {
      "cell_type": "code",
      "source": [
        "a=[1,2,3]\n",
        "b=[4,5,6]\n",
        "c=a+b\n",
        "print(c)"
      ],
      "metadata": {
        "id": "Uwp-ooJNNuaZ",
        "outputId": "147edc83-342c-4142-8fba-325349959906",
        "colab": {
          "base_uri": "https://localhost:8080/"
        }
      },
      "execution_count": null,
      "outputs": [
        {
          "output_type": "stream",
          "name": "stdout",
          "text": [
            "[1, 2, 3, 4, 5, 6]\n"
          ]
        }
      ]
    },
    {
      "cell_type": "code",
      "source": [
        "a=[10,78]\n",
        "b=3*a\n",
        "print(b)"
      ],
      "metadata": {
        "id": "Qt4c0u4MN4no",
        "outputId": "bdc94352-c8b3-4b70-fceb-2c3de8c3e0c1",
        "colab": {
          "base_uri": "https://localhost:8080/"
        }
      },
      "execution_count": null,
      "outputs": [
        {
          "output_type": "stream",
          "name": "stdout",
          "text": [
            "[10, 78, 10, 78, 10, 78]\n"
          ]
        }
      ]
    },
    {
      "cell_type": "code",
      "source": [
        "days=['mon','tue','wed','thu','fri','sat','sun']\n",
        "\"thu\" in days"
      ],
      "metadata": {
        "id": "aqqujnUYOE5Q",
        "outputId": "993d9585-cdb2-43ed-d158-2a7fb45d3268",
        "colab": {
          "base_uri": "https://localhost:8080/"
        }
      },
      "execution_count": null,
      "outputs": [
        {
          "output_type": "execute_result",
          "data": {
            "text/plain": [
              "True"
            ]
          },
          "metadata": {},
          "execution_count": 9
        }
      ]
    },
    {
      "cell_type": "code",
      "source": [
        "days=['mon','tue','wed','thu','fri','sat','sun']\n",
        "\"mon\" not in days"
      ],
      "metadata": {
        "id": "zJfekG6mOT_w",
        "outputId": "558470f1-47ba-48b9-bd28-22cd3648f38c",
        "colab": {
          "base_uri": "https://localhost:8080/"
        }
      },
      "execution_count": null,
      "outputs": [
        {
          "output_type": "execute_result",
          "data": {
            "text/plain": [
              "False"
            ]
          },
          "metadata": {},
          "execution_count": 10
        }
      ]
    },
    {
      "cell_type": "code",
      "source": [
        "days=['mon','tue','wed','thu','fri','sat','sun']\n",
        "del[days[1]]\n",
        "days"
      ],
      "metadata": {
        "id": "mBdNS5IzOeWn",
        "outputId": "c125a2d3-ea1b-49c5-8f40-0bace2d5412b",
        "colab": {
          "base_uri": "https://localhost:8080/"
        }
      },
      "execution_count": null,
      "outputs": [
        {
          "output_type": "execute_result",
          "data": {
            "text/plain": [
              "['mon', 'wed', 'thu', 'fri', 'sat', 'sun']"
            ]
          },
          "metadata": {},
          "execution_count": 11
        }
      ]
    },
    {
      "cell_type": "code",
      "source": [
        "a=['a','b','c','d']\n",
        "print(a)\n",
        "a.append('e')\n",
        "print(a)"
      ],
      "metadata": {
        "id": "IRsAKd27PDU4",
        "outputId": "82f1e9b3-d2f1-4348-c92a-ef81ae6f4a3c",
        "colab": {
          "base_uri": "https://localhost:8080/"
        }
      },
      "execution_count": null,
      "outputs": [
        {
          "output_type": "stream",
          "name": "stdout",
          "text": [
            "['a', 'b', 'c', 'd']\n",
            "['a', 'b', 'c', 'd', 'e']\n"
          ]
        }
      ]
    },
    {
      "cell_type": "code",
      "source": [
        "a=[1,2,3]\n",
        "print(a)\n",
        "a.clear()\n",
        "print(a)"
      ],
      "metadata": {
        "id": "5baquU2lQApW",
        "outputId": "3407a6c5-71e7-4815-ab92-7849e0917775",
        "colab": {
          "base_uri": "https://localhost:8080/"
        }
      },
      "execution_count": null,
      "outputs": [
        {
          "output_type": "stream",
          "name": "stdout",
          "text": [
            "[1, 2, 3]\n",
            "[]\n"
          ]
        }
      ]
    },
    {
      "cell_type": "code",
      "source": [
        "a=[1,2,3]\n",
        "print(a)\n",
        "a.count(1)"
      ],
      "metadata": {
        "id": "CB-9WpFKQWck",
        "outputId": "b15f272b-81f6-4dc3-f654-5a3b3be73dd5",
        "colab": {
          "base_uri": "https://localhost:8080/"
        }
      },
      "execution_count": null,
      "outputs": [
        {
          "output_type": "stream",
          "name": "stdout",
          "text": [
            "[1, 2, 3]\n"
          ]
        },
        {
          "output_type": "execute_result",
          "data": {
            "text/plain": [
              "1"
            ]
          },
          "metadata": {},
          "execution_count": 14
        }
      ]
    },
    {
      "cell_type": "code",
      "source": [
        "list1=[1,2,3,4,5]\n",
        "print(list1)\n",
        "list2=list1.copy()\n",
        "print(list2)"
      ],
      "metadata": {
        "id": "rz8NNHvGQsNt",
        "outputId": "15dd29dc-b088-44a6-b7e1-84ae41111cf0",
        "colab": {
          "base_uri": "https://localhost:8080/"
        }
      },
      "execution_count": null,
      "outputs": [
        {
          "output_type": "stream",
          "name": "stdout",
          "text": [
            "[1, 2, 3, 4, 5]\n",
            "[1, 2, 3, 4, 5]\n"
          ]
        }
      ]
    }
  ],
  "metadata": {
    "colab": {
      "provenance": []
    },
    "kernelspec": {
      "display_name": "Python 3",
      "name": "python3"
    }
  },
  "nbformat": 4,
  "nbformat_minor": 0
}